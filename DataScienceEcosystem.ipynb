{
 "cells": [
  {
   "cell_type": "markdown",
   "id": "d3183815",
   "metadata": {},
   "source": [
    "# Data science Tools and Ecosystem"
   ]
  },
  {
   "cell_type": "markdown",
   "id": "6ecaef3c",
   "metadata": {},
   "source": [
    "## In this notebook, Data Science Tools and Ecosystem are summarized."
   ]
  },
  {
   "cell_type": "markdown",
   "id": "37593faa",
   "metadata": {},
   "source": [
    "### Some of the popular languages that Data scientists use are:"
   ]
  },
  {
   "cell_type": "markdown",
   "id": "dd40f26e",
   "metadata": {},
   "source": [
    "### 1.Python"
   ]
  },
  {
   "cell_type": "markdown",
   "id": "78835c19",
   "metadata": {},
   "source": [
    "### 2.R"
   ]
  },
  {
   "cell_type": "markdown",
   "id": "eca2a0b5",
   "metadata": {},
   "source": [
    "### 3.SQL"
   ]
  },
  {
   "cell_type": "markdown",
   "id": "b60cafae",
   "metadata": {},
   "source": [
    "## Some of the commonly used libraries used by Data Scientists include:"
   ]
  },
  {
   "cell_type": "markdown",
   "id": "333458d0",
   "metadata": {},
   "source": [
    "### 1. Pandas"
   ]
  },
  {
   "cell_type": "markdown",
   "id": "cdc90da4",
   "metadata": {},
   "source": [
    "### 2. Numpy"
   ]
  },
  {
   "cell_type": "markdown",
   "id": "9ca25c9c",
   "metadata": {},
   "source": [
    "### 3.Matplotlib"
   ]
  },
  {
   "cell_type": "markdown",
   "id": "f1d940ca",
   "metadata": {},
   "source": [
    "### 4. Scikit-learn"
   ]
  },
  {
   "cell_type": "markdown",
   "id": "c37fe290",
   "metadata": {},
   "source": [
    "# Data Science Tools"
   ]
  },
  {
   "cell_type": "markdown",
   "id": "c0e6954c",
   "metadata": {},
   "source": [
    "## 1. Jupyter Notebook"
   ]
  },
  {
   "cell_type": "markdown",
   "id": "2de9573e",
   "metadata": {},
   "source": [
    "## 2.Tableau"
   ]
  },
  {
   "cell_type": "markdown",
   "id": "2c71f5ff",
   "metadata": {},
   "source": [
    "## 3. Microsoft power BI"
   ]
  },
  {
   "cell_type": "markdown",
   "id": "5e2156fc",
   "metadata": {},
   "source": [
    "## 4.Pytorch"
   ]
  },
  {
   "cell_type": "markdown",
   "id": "8dd8017b",
   "metadata": {},
   "source": [
    "# Below are a few examples of evaluating  arithmetic expression in python"
   ]
  },
  {
   "cell_type": "code",
   "execution_count": null,
   "id": "46fe0600",
   "metadata": {},
   "outputs": [],
   "source": [
    "# This a simple arithmetic expressio0n to multiply then add integers"
   ]
  },
  {
   "cell_type": "code",
   "execution_count": 4,
   "id": "140a2755",
   "metadata": {},
   "outputs": [
    {
     "data": {
      "text/plain": [
       "17"
      ]
     },
     "execution_count": 4,
     "metadata": {},
     "output_type": "execute_result"
    }
   ],
   "source": [
    "(3*4)+5"
   ]
  },
  {
   "cell_type": "markdown",
   "id": "b3685a97",
   "metadata": {},
   "source": [
    "# 200 minutes to hours"
   ]
  },
  {
   "cell_type": "code",
   "execution_count": 5,
   "id": "e029bb10",
   "metadata": {},
   "outputs": [],
   "source": [
    "# This will convert 200 minutes to hours by dividing by 60"
   ]
  },
  {
   "cell_type": "code",
   "execution_count": 13,
   "id": "db2ac953",
   "metadata": {},
   "outputs": [
    {
     "data": {
      "text/plain": [
       "3.3333333333333335"
      ]
     },
     "execution_count": 13,
     "metadata": {},
     "output_type": "execute_result"
    }
   ],
   "source": [
    "200/60"
   ]
  },
  {
   "cell_type": "markdown",
   "id": "553dbdf6",
   "metadata": {},
   "source": [
    "# Objectives"
   ]
  },
  {
   "cell_type": "markdown",
   "id": "50e3a4cd",
   "metadata": {},
   "source": [
    "## Python"
   ]
  },
  {
   "cell_type": "markdown",
   "id": "c3768371",
   "metadata": {},
   "source": [
    "## R"
   ]
  },
  {
   "cell_type": "markdown",
   "id": "104835d2",
   "metadata": {},
   "source": [
    "## Scala"
   ]
  },
  {
   "cell_type": "markdown",
   "id": "abe21e63",
   "metadata": {},
   "source": [
    "# Author"
   ]
  },
  {
   "cell_type": "markdown",
   "id": "a5813383",
   "metadata": {},
   "source": [
    "## Soundarya N"
   ]
  },
  {
   "cell_type": "code",
   "execution_count": null,
   "id": "0eba5310",
   "metadata": {},
   "outputs": [],
   "source": []
  }
 ],
 "metadata": {
  "kernelspec": {
   "display_name": "Python 3 (ipykernel)",
   "language": "python",
   "name": "python3"
  },
  "language_info": {
   "codemirror_mode": {
    "name": "ipython",
    "version": 3
   },
   "file_extension": ".py",
   "mimetype": "text/x-python",
   "name": "python",
   "nbconvert_exporter": "python",
   "pygments_lexer": "ipython3",
   "version": "3.11.5"
  }
 },
 "nbformat": 4,
 "nbformat_minor": 5
}
